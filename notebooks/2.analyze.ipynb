{
 "cells": [
  {
   "cell_type": "code",
   "execution_count": null,
   "metadata": {},
   "outputs": [],
   "source": [
    "import pandas as pd\n",
    "# Standard plotly imports\n",
    "import plotly.plotly as py\n",
    "import plotly.graph_objs as go\n",
    "from plotly.offline import iplot, init_notebook_mode\n",
    "import plotly.figure_factory as ff\n",
    "\n",
    "# Using plotly + cufflinks in offline mode\n",
    "import cufflinks\n",
    "cufflinks.go_offline(connected=True)\n",
    "init_notebook_mode(connected=True)\n",
    "\n",
    "# Other Imports\n",
    "from sklearn.datasets import load_boston\n",
    "import pandas as pd\n",
    "import numpy as np\n",
    "from ipywidgets import interact, interact_manual\n",
    "import matplotlib.pyplot as plt\n",
    "plt.rcParams['figure.figsize'] = (16.0, 7.0)"
   ]
  },
  {
   "cell_type": "code",
   "execution_count": null,
   "metadata": {},
   "outputs": [],
   "source": [
    "import numpy as np\n",
    "import seaborn as sns\n",
    "from pandasql import sqldf\n",
    "q = lambda x: sqldf(x, globals())\n",
    "# Reshape to allow Hue\n",
    "df = pd.read_csv(\"../data/interim/df_20000ms.csv\")\n",
    "temp_df = df.copy()\n",
    "temp_df1 = temp_df[[\"color\", \"game_number\", \"move_number\", \"player\", \"choice\"]]\n",
    "temp_df1 = temp_df1.rename(columns={\"choice\": \"unit_type\"})\n",
    "temp_df1['type'] = \"choice\"\n",
    "temp_df2 = temp_df[[\"color\", \"game_number\", \"move_number\", \"player\", \"correct\"]]\n",
    "temp_df2 = temp_df2.rename(columns={\"correct\": \"unit_type\"})\n",
    "temp_df2['type'] = \"correct\"\n",
    "temp_df = pd.concat([temp_df1, temp_df2], axis=0)\n",
    "\n",
    "start_move = range(1,51)\n",
    "end_move = range(1,51)\n",
    "player = [\"nash\", \"peter\"]\n",
    "color = ['black', 'white']\n",
    "\n",
    "# Summmation\n",
    "temp_df['count'] = 1"
   ]
  },
  {
   "cell_type": "code",
   "execution_count": null,
   "metadata": {},
   "outputs": [],
   "source": [
    "@interact\n",
    "def univariate(start_move=start_move, end_move=end_move, player=player, color=color):\n",
    "    return sns.barplot(x=\"unit_type\", y=\"count\", hue=\"type\", estimator=lambda x: np.sum(x), data=temp_df[(temp_df[\"move_number\"] >= int(start_move)) & (temp_df[\"move_number\"] <= int(end_move)) & (temp_df[\"player\"] == player) & (temp_df[\"color\"] == color)])\n"
   ]
  },
  {
   "cell_type": "code",
   "execution_count": null,
   "metadata": {},
   "outputs": [],
   "source": [
    "q(\"select choice, correct, count(*) FROM df WHERE player = 'nash' and move_number between 11 and 30 and color = 'black' group by 1,2 order by 3 desc\").to_csv(\"../data/processed/black_11_30_nash.csv\")\n"
   ]
  },
  {
   "cell_type": "code",
   "execution_count": null,
   "metadata": {},
   "outputs": [],
   "source": [
    "# import cufflinks as cf\n",
    "# import pandas as pd\n",
    "# temp_df.groupby([\"unit_type\",\"type\"]).sum()[[\"count\"]].reset_index().iplot(kind=\"bar\", x=\"unit_type\", y=\"count\")\n"
   ]
  }
 ],
 "metadata": {
  "kernelspec": {
   "display_name": "commons",
   "language": "python",
   "name": "commons"
  },
  "language_info": {
   "codemirror_mode": {
    "name": "ipython",
    "version": 3
   },
   "file_extension": ".py",
   "mimetype": "text/x-python",
   "name": "python",
   "nbconvert_exporter": "python",
   "pygments_lexer": "ipython3",
   "version": "3.6.5"
  },
  "toc": {
   "base_numbering": 1,
   "nav_menu": {},
   "number_sections": true,
   "sideBar": true,
   "skip_h1_title": false,
   "title_cell": "Table of Contents",
   "title_sidebar": "Contents",
   "toc_cell": false,
   "toc_position": {},
   "toc_section_display": true,
   "toc_window_display": false
  }
 },
 "nbformat": 4,
 "nbformat_minor": 2
}
